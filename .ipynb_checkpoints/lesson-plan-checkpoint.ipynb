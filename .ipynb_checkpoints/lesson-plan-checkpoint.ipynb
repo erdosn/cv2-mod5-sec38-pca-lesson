{
 "cells": [
  {
   "cell_type": "markdown",
   "metadata": {},
   "source": [
    "### Questions/Insights"
   ]
  },
  {
   "cell_type": "markdown",
   "metadata": {},
   "source": [
    "### Objectives\n",
    "- Define Eigenvalues and Eigenvectors\n",
    "- Describe how these are used in PCA\n",
    "- Apply PCA to reduce dimensions of data"
   ]
  },
  {
   "cell_type": "markdown",
   "metadata": {},
   "source": [
    "### Outline\n",
    "- Questions\n",
    "- Explain eigenvalues and eigenvectors and why they're awesome\n",
    "- Apply eigen decomposition to the correlation matrix and discuss how it's used in PCA\n",
    "- Apply PCA to some dataset that we create using sklearn"
   ]
  },
  {
   "cell_type": "code",
   "execution_count": 20,
   "metadata": {},
   "outputs": [],
   "source": [
    "import pandas as pd\n",
    "import numpy as np\n",
    "\n",
    "from sklearn.decomposition import PCA\n",
    "from sklearn.datasets import make_blobs\n",
    "from sklearn.metrics import euclidean_distances\n",
    "\n",
    "import matplotlib.pyplot as plt\n",
    "import seaborn as sns\n",
    "\n",
    "np.random.seed(42)"
   ]
  },
  {
   "cell_type": "markdown",
   "metadata": {},
   "source": [
    "### Eigenvalues and Eigenvectors are only applied on square matrices"
   ]
  },
  {
   "cell_type": "code",
   "execution_count": 21,
   "metadata": {},
   "outputs": [
    {
     "data": {
      "text/plain": [
       "array([[16, 13, 17],\n",
       "       [14, 16, 19],\n",
       "       [12, 16, 17]])"
      ]
     },
     "execution_count": 21,
     "metadata": {},
     "output_type": "execute_result"
    }
   ],
   "source": [
    "A = np.random.randint(10, 20, size=(3, 3))\n",
    "A "
   ]
  },
  {
   "cell_type": "markdown",
   "metadata": {},
   "source": [
    "### Eigen Properties\n",
    "- Eigen Values multiply to the determinent of A\n",
    "- Eigen Values add to the trace of matrix A (trace = sum of diagonals)\n",
    "- Eigen Vectors are orthonormal *always normal not always orthogonal*\n",
    "    - what is 'orthonormality'?\n",
    "        - orthogonal -> perpendicular, the angle is 90 degrees\n",
    "        - normal -> vector length = 1"
   ]
  },
  {
   "cell_type": "code",
   "execution_count": 23,
   "metadata": {},
   "outputs": [
    {
     "data": {
      "text/plain": [
       "(array([46.59404279,  3.08723726, -0.68128005]),\n",
       " array([[-0.56733781, -0.85134788, -0.28192077],\n",
       "        [-0.60593555,  0.22744997, -0.60839181],\n",
       "        [-0.55764677,  0.47272963,  0.74187605]]))"
      ]
     },
     "execution_count": 23,
     "metadata": {},
     "output_type": "execute_result"
    }
   ],
   "source": [
    "evals, evecs = np.linalg.eig(A)\n",
    "evals, evecs"
   ]
  },
  {
   "cell_type": "code",
   "execution_count": 24,
   "metadata": {},
   "outputs": [
    {
     "data": {
      "text/plain": [
       "array([[46.59404279,  0.        ,  0.        ],\n",
       "       [ 0.        ,  3.08723726,  0.        ],\n",
       "       [ 0.        ,  0.        , -0.68128005]])"
      ]
     },
     "execution_count": 24,
     "metadata": {},
     "output_type": "execute_result"
    }
   ],
   "source": [
    "evals_diag = np.diag(evals)\n",
    "evals_diag"
   ]
  },
  {
   "cell_type": "code",
   "execution_count": 25,
   "metadata": {},
   "outputs": [
    {
     "data": {
      "text/plain": [
       "(array([46.59404279,  3.08723726, -0.68128005]),\n",
       " array([[-0.56733781, -0.85134788, -0.28192077],\n",
       "        [-0.60593555,  0.22744997, -0.60839181],\n",
       "        [-0.55764677,  0.47272963,  0.74187605]]))"
      ]
     },
     "execution_count": 25,
     "metadata": {},
     "output_type": "execute_result"
    }
   ],
   "source": [
    "evals, evecs"
   ]
  },
  {
   "cell_type": "code",
   "execution_count": 26,
   "metadata": {},
   "outputs": [],
   "source": [
    "evecs_inv = np.linalg.inv(evecs)"
   ]
  },
  {
   "cell_type": "code",
   "execution_count": 30,
   "metadata": {},
   "outputs": [
    {
     "data": {
      "text/plain": [
       "array([[16., 13., 17.],\n",
       "       [14., 16., 19.],\n",
       "       [12., 16., 17.]])"
      ]
     },
     "execution_count": 30,
     "metadata": {},
     "output_type": "execute_result"
    }
   ],
   "source": [
    "evecs.dot(evals_diag).dot(evecs_inv)"
   ]
  },
  {
   "cell_type": "code",
   "execution_count": 31,
   "metadata": {},
   "outputs": [
    {
     "data": {
      "text/plain": [
       "-98.00000000000033"
      ]
     },
     "execution_count": 31,
     "metadata": {},
     "output_type": "execute_result"
    }
   ],
   "source": [
    "np.prod(evals)"
   ]
  },
  {
   "cell_type": "markdown",
   "metadata": {},
   "source": [
    "### Eigenvalues"
   ]
  },
  {
   "cell_type": "code",
   "execution_count": 32,
   "metadata": {},
   "outputs": [
    {
     "data": {
      "text/plain": [
       "(-98.00000000000033, -98.00000000000004)"
      ]
     },
     "execution_count": 32,
     "metadata": {},
     "output_type": "execute_result"
    }
   ],
   "source": [
    "np.prod(evals), np.linalg.det(A)"
   ]
  },
  {
   "cell_type": "code",
   "execution_count": 33,
   "metadata": {},
   "outputs": [
    {
     "data": {
      "text/plain": [
       "(49.000000000000014, 49)"
      ]
     },
     "execution_count": 33,
     "metadata": {},
     "output_type": "execute_result"
    }
   ],
   "source": [
    "np.sum(evals), np.trace(A)"
   ]
  },
  {
   "cell_type": "code",
   "execution_count": 34,
   "metadata": {},
   "outputs": [],
   "source": [
    "evecs_inv = np.linalg.inv(evecs)"
   ]
  },
  {
   "cell_type": "code",
   "execution_count": 35,
   "metadata": {},
   "outputs": [
    {
     "data": {
      "text/plain": [
       "(array([46.59404279,  3.08723726, -0.68128005]),\n",
       " array([[-0.56733781, -0.85134788, -0.28192077],\n",
       "        [-0.60593555,  0.22744997, -0.60839181],\n",
       "        [-0.55764677,  0.47272963,  0.74187605]]),\n",
       " array([[-0.5153841 , -0.56279276, -0.65738204],\n",
       "        [-0.89084741,  0.65289909,  0.19689283],\n",
       "        [ 0.1802561 , -0.8390678 ,  0.72833724]]))"
      ]
     },
     "execution_count": 35,
     "metadata": {},
     "output_type": "execute_result"
    }
   ],
   "source": [
    "evals, evecs, evecs_inv"
   ]
  },
  {
   "cell_type": "code",
   "execution_count": 36,
   "metadata": {},
   "outputs": [],
   "source": [
    "v1 = evecs.T[0]\n",
    "v2 = evecs.T[1]"
   ]
  },
  {
   "cell_type": "code",
   "execution_count": 37,
   "metadata": {},
   "outputs": [
    {
     "data": {
      "text/plain": [
       "0.08156567299094766"
      ]
     },
     "execution_count": 37,
     "metadata": {},
     "output_type": "execute_result"
    }
   ],
   "source": [
    "v1.dot(v2) # not orthogonal"
   ]
  },
  {
   "cell_type": "code",
   "execution_count": 41,
   "metadata": {},
   "outputs": [
    {
     "data": {
      "text/plain": [
       "array([[-0.56733781, -0.60593555, -0.55764677],\n",
       "       [-0.85134788,  0.22744997,  0.47272963],\n",
       "       [-0.28192077, -0.60839181,  0.74187605]])"
      ]
     },
     "execution_count": 41,
     "metadata": {},
     "output_type": "execute_result"
    }
   ],
   "source": [
    "evecs.T"
   ]
  },
  {
   "cell_type": "code",
   "execution_count": 42,
   "metadata": {},
   "outputs": [
    {
     "data": {
      "text/plain": [
       "(1.0, 1.0, 1.0)"
      ]
     },
     "execution_count": 42,
     "metadata": {},
     "output_type": "execute_result"
    }
   ],
   "source": [
    "np.linalg.norm(v1), np.linalg.norm(v2), np.linalg.norm(evecs.T[2])"
   ]
  },
  {
   "cell_type": "markdown",
   "metadata": {},
   "source": [
    "### Eigenvectors if A is symmetrical"
   ]
  },
  {
   "cell_type": "code",
   "execution_count": 43,
   "metadata": {},
   "outputs": [
    {
     "data": {
      "text/plain": [
       "array([[676.74795183,  -6.80826757, -12.74686121],\n",
       "       [ -6.80826757, 683.01335403,  -1.83306389],\n",
       "       [-12.74686121,  -1.83306389, 665.56769398]])"
      ]
     },
     "execution_count": 43,
     "metadata": {},
     "output_type": "execute_result"
    }
   ],
   "source": [
    "### Let's make a symmetrical matrix\n",
    "# A Matrix M is symmetrical iff M.T == M\n",
    "A  = np.random.randint(10, 100, size=(5000, 3))\n",
    "A_sym = np.cov(A.T) \n",
    "A_sym"
   ]
  },
  {
   "cell_type": "code",
   "execution_count": 44,
   "metadata": {},
   "outputs": [
    {
     "data": {
      "text/plain": [
       "(array([656.17843298, 689.21232382, 679.93824304]),\n",
       " array([[ 0.56279363,  0.68371442, -0.46454054],\n",
       "        [ 0.19761262, -0.65698372, -0.72754494],\n",
       "        [ 0.80262854, -0.31765859,  0.50485685]]))"
      ]
     },
     "execution_count": 44,
     "metadata": {},
     "output_type": "execute_result"
    }
   ],
   "source": [
    "evals, evecs = np.linalg.eig(A_sym)\n",
    "evals, evecs"
   ]
  },
  {
   "cell_type": "code",
   "execution_count": 45,
   "metadata": {},
   "outputs": [
    {
     "name": "stdout",
     "output_type": "stream",
     "text": [
      "[[ 0.56279363  0.19761262  0.80262854]\n",
      " [ 0.68371442 -0.65698372 -0.31765859]\n",
      " [-0.46454054 -0.72754494  0.50485685]]\n",
      "\n",
      "\n",
      "[[ 0.56279363  0.68371442 -0.46454054]\n",
      " [ 0.19761262 -0.65698372 -0.72754494]\n",
      " [ 0.80262854 -0.31765859  0.50485685]]\n"
     ]
    }
   ],
   "source": [
    "evecs_inv = np.linalg.inv(evecs)\n",
    "print(evecs_inv)\n",
    "print(\"\\n\")\n",
    "print(evecs)"
   ]
  },
  {
   "cell_type": "code",
   "execution_count": 46,
   "metadata": {},
   "outputs": [
    {
     "data": {
      "text/plain": [
       "0.9999999999999999"
      ]
     },
     "execution_count": 46,
     "metadata": {},
     "output_type": "execute_result"
    }
   ],
   "source": [
    "### normal -> all eigenvectors are normal, always\n",
    "# A vector v is normal iff length of v is 1\n",
    "np.sqrt(np.sum(evecs[:, 0]**2))"
   ]
  },
  {
   "cell_type": "code",
   "execution_count": 47,
   "metadata": {},
   "outputs": [
    {
     "data": {
      "text/plain": [
       "-1.1657341758564144e-15"
      ]
     },
     "execution_count": 47,
     "metadata": {},
     "output_type": "execute_result"
    }
   ],
   "source": [
    "### because A_sym is symmetrical the vectors are also orthogonal\n",
    "# vectors a and b are orthogonal iff the angle between a and b is 90 degree (dot product = 0)\n",
    "\n",
    "np.dot(evecs[:, 0], evecs[:, 1])"
   ]
  },
  {
   "cell_type": "code",
   "execution_count": 48,
   "metadata": {},
   "outputs": [
    {
     "data": {
      "text/plain": [
       "array([[ 1.,  0., -0.],\n",
       "       [ 0.,  1.,  0.],\n",
       "       [-0.,  0.,  1.]])"
      ]
     },
     "execution_count": 48,
     "metadata": {},
     "output_type": "execute_result"
    }
   ],
   "source": [
    "## if A*B = I -> A, B are inverses\n",
    "## evecs.T = evecs.inv()\n",
    "np.round(evecs.dot(evecs.T), 2)"
   ]
  },
  {
   "cell_type": "code",
   "execution_count": 49,
   "metadata": {},
   "outputs": [
    {
     "data": {
      "text/plain": [
       "array([[676.74795183,  -6.80826757, -12.74686121],\n",
       "       [ -6.80826757, 683.01335403,  -1.83306389],\n",
       "       [-12.74686121,  -1.83306389, 665.56769398]])"
      ]
     },
     "execution_count": 49,
     "metadata": {},
     "output_type": "execute_result"
    }
   ],
   "source": [
    "A_sym"
   ]
  },
  {
   "cell_type": "code",
   "execution_count": 50,
   "metadata": {},
   "outputs": [
    {
     "data": {
      "text/plain": [
       "array([[676.74795183,  -6.80826757, -12.74686121],\n",
       "       [ -6.80826757, 683.01335403,  -1.83306389],\n",
       "       [-12.74686121,  -1.83306389, 665.56769398]])"
      ]
     },
     "execution_count": 50,
     "metadata": {},
     "output_type": "execute_result"
    }
   ],
   "source": [
    "# Q L Q^T\n",
    "evecs.dot(np.diag(evals)).dot(evecs.T)"
   ]
  },
  {
   "cell_type": "code",
   "execution_count": 51,
   "metadata": {},
   "outputs": [],
   "source": [
    "### eigenvecs and vals redescribe your space \n",
    "### if your space is symmetrical, then the eigenvecs are a basis\n",
    "### so...why is this important for dimensionality reduction?"
   ]
  },
  {
   "cell_type": "markdown",
   "metadata": {},
   "source": [
    "## PCA\n",
    "- We have some matrix of data, A, of dimensions (n x m)-> n rows and m columns\n",
    "- We prepare our data for Eigendecomposition by cov(A) -> m x m\n",
    "    - $C^{(m \\times m)}$\n",
    "- Take the Eigen Decomposition of Cov(A)\n",
    "    - Gives you the eigen vectors that best describe cov(A)\n",
    "    - Eigen vectors that describe the covariance\n",
    "- Order vectors by their respective values\n",
    "    - Map your space (A) onto some number of eigen values (ordered by importance)\n",
    "    - This maintains the covariance of your space\n",
    "\n",
    "## Pros\n",
    "- Reduces dimensions, saves on computational expense\n",
    "- Maintains covariance of your space by using the most important eigen vectors to map onto.\n",
    "\n",
    "\n",
    "\n",
    "## Cons\n",
    "- Lose all interpretability \n",
    "- Expensive computationally, because eigen decomposition is difficult"
   ]
  },
  {
   "cell_type": "markdown",
   "metadata": {},
   "source": [
    "### Decomposition for non square matrix\n",
    "- SVD (Singular Value Decomposition)\n",
    "- Linear Discriminant Analysis"
   ]
  },
  {
   "cell_type": "markdown",
   "metadata": {},
   "source": [
    "### Assessment"
   ]
  }
 ],
 "metadata": {
  "kernelspec": {
   "display_name": "Python 3",
   "language": "python",
   "name": "python3"
  },
  "language_info": {
   "codemirror_mode": {
    "name": "ipython",
    "version": 3
   },
   "file_extension": ".py",
   "mimetype": "text/x-python",
   "name": "python",
   "nbconvert_exporter": "python",
   "pygments_lexer": "ipython3",
   "version": "3.6.0"
  }
 },
 "nbformat": 4,
 "nbformat_minor": 2
}
