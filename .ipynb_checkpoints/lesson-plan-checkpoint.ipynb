{
 "cells": [
  {
   "cell_type": "markdown",
   "metadata": {},
   "source": [
    "### Questions/Insights\n",
    "- PCA is really useful in image processing\n",
    "    - b/c images take up space if we can reduce dimensions -> speed up process\n",
    "- Pixels in images are features\n",
    "- When fitting the transform if you want to apply it to the test data you can't use fit_transform again\n",
    "    - because it uses mean normalization, so the mean changes from train to test data\n",
    "- The way that PCA reduces dimensionality is by removing the least important axis...keeps one with higher variance\n",
    "- PCAing data is supposed to be fast on grid searches."
   ]
  },
  {
   "cell_type": "markdown",
   "metadata": {},
   "source": [
    "### Objectives\n",
    "- Define Eigenvalues and Eigenvectors\n",
    "- Describe how these are used in PCA\n",
    "- Apply PCA to reduce dimensions of data"
   ]
  },
  {
   "cell_type": "markdown",
   "metadata": {},
   "source": [
    "### Outline\n",
    "- Questions\n",
    "- Explain eigenvalues and eigenvectors and why they're awesome\n",
    "- Apply eigen decomposition to the correlation matrix and discuss how it's used in PCA\n",
    "- Apply PCA to some dataset that we create using sklearn"
   ]
  },
  {
   "cell_type": "code",
   "execution_count": 15,
   "metadata": {},
   "outputs": [],
   "source": [
    "import pandas as pd\n",
    "import numpy as np\n",
    "\n",
    "from sklearn.decomposition import PCA\n",
    "from sklearn.datasets import make_blobs\n",
    "from sklearn.metrics import euclidean_distances\n",
    "\n",
    "import matplotlib.pyplot as plt\n",
    "import seaborn as sns\n",
    "\n",
    "np.random.seed(42)"
   ]
  },
  {
   "cell_type": "markdown",
   "metadata": {},
   "source": [
    "### Eigenvalues and Eigenvectors are only applied on square matrices"
   ]
  },
  {
   "cell_type": "code",
   "execution_count": 2,
   "metadata": {},
   "outputs": [
    {
     "data": {
      "text/plain": [
       "array([[16, 13, 17],\n",
       "       [14, 16, 19],\n",
       "       [12, 16, 17]])"
      ]
     },
     "execution_count": 2,
     "metadata": {},
     "output_type": "execute_result"
    }
   ],
   "source": [
    "A = np.random.randint(10, 20, size=(3, 3))\n",
    "A "
   ]
  },
  {
   "cell_type": "markdown",
   "metadata": {},
   "source": [
    "### Eigen Properties\n",
    "- Eigen Values multiply to the determinent of A\n",
    "- Eigen Values add to the trace of matrix A (trace = sum of diagonals)\n",
    "- Eigen Vectors are orthonormal *always normal not always orthogonal*\n",
    "    - what is 'orthonormality'?\n",
    "        - orthogonal -> perpendicular, the angle is 90 degrees\n",
    "        - normal -> vector length = 1"
   ]
  },
  {
   "cell_type": "code",
   "execution_count": 4,
   "metadata": {},
   "outputs": [
    {
     "data": {
      "text/plain": [
       "(array([46.59404279,  3.08723726, -0.68128005]),\n",
       " array([[-0.56733781, -0.85134788, -0.28192077],\n",
       "        [-0.60593555,  0.22744997, -0.60839181],\n",
       "        [-0.55764677,  0.47272963,  0.74187605]]))"
      ]
     },
     "execution_count": 4,
     "metadata": {},
     "output_type": "execute_result"
    }
   ],
   "source": [
    "evals, evecs = np.linalg.eig(A)\n",
    "evals, evecs"
   ]
  },
  {
   "cell_type": "code",
   "execution_count": 5,
   "metadata": {},
   "outputs": [
    {
     "data": {
      "text/plain": [
       "array([[46.59404279,  0.        ,  0.        ],\n",
       "       [ 0.        ,  3.08723726,  0.        ],\n",
       "       [ 0.        ,  0.        , -0.68128005]])"
      ]
     },
     "execution_count": 5,
     "metadata": {},
     "output_type": "execute_result"
    }
   ],
   "source": [
    "evals_diag = np.diag(evals)\n",
    "evals_diag"
   ]
  },
  {
   "cell_type": "code",
   "execution_count": 6,
   "metadata": {},
   "outputs": [
    {
     "data": {
      "text/plain": [
       "(array([46.59404279,  3.08723726, -0.68128005]),\n",
       " array([[-0.56733781, -0.85134788, -0.28192077],\n",
       "        [-0.60593555,  0.22744997, -0.60839181],\n",
       "        [-0.55764677,  0.47272963,  0.74187605]]))"
      ]
     },
     "execution_count": 6,
     "metadata": {},
     "output_type": "execute_result"
    }
   ],
   "source": [
    "evals, evecs"
   ]
  },
  {
   "cell_type": "markdown",
   "metadata": {},
   "source": [
    "### Eigenvalues"
   ]
  },
  {
   "cell_type": "code",
   "execution_count": 7,
   "metadata": {},
   "outputs": [
    {
     "data": {
      "text/plain": [
       "(-98.00000000000033, -98.00000000000004)"
      ]
     },
     "execution_count": 7,
     "metadata": {},
     "output_type": "execute_result"
    }
   ],
   "source": [
    "np.prod(evals), np.linalg.det(A)"
   ]
  },
  {
   "cell_type": "code",
   "execution_count": 8,
   "metadata": {},
   "outputs": [
    {
     "data": {
      "text/plain": [
       "(49.000000000000014, 49)"
      ]
     },
     "execution_count": 8,
     "metadata": {},
     "output_type": "execute_result"
    }
   ],
   "source": [
    "np.sum(evals), np.trace(A)"
   ]
  },
  {
   "cell_type": "code",
   "execution_count": 9,
   "metadata": {},
   "outputs": [],
   "source": [
    "evecs_inv = np.linalg.inv(evecs)"
   ]
  },
  {
   "cell_type": "code",
   "execution_count": 10,
   "metadata": {},
   "outputs": [
    {
     "data": {
      "text/plain": [
       "(array([46.59404279,  3.08723726, -0.68128005]),\n",
       " array([[-0.56733781, -0.85134788, -0.28192077],\n",
       "        [-0.60593555,  0.22744997, -0.60839181],\n",
       "        [-0.55764677,  0.47272963,  0.74187605]]),\n",
       " array([[-0.5153841 , -0.56279276, -0.65738204],\n",
       "        [-0.89084741,  0.65289909,  0.19689283],\n",
       "        [ 0.1802561 , -0.8390678 ,  0.72833724]]))"
      ]
     },
     "execution_count": 10,
     "metadata": {},
     "output_type": "execute_result"
    }
   ],
   "source": [
    "evals, evecs, evecs_inv"
   ]
  },
  {
   "cell_type": "code",
   "execution_count": 14,
   "metadata": {},
   "outputs": [],
   "source": [
    "v1 = evecs.T[0]\n",
    "v2 = evecs.T[1]"
   ]
  },
  {
   "cell_type": "code",
   "execution_count": 18,
   "metadata": {},
   "outputs": [
    {
     "data": {
      "text/plain": [
       "0.08156567299094766"
      ]
     },
     "execution_count": 18,
     "metadata": {},
     "output_type": "execute_result"
    }
   ],
   "source": [
    "v1.dot(v2) # not orthogonal"
   ]
  },
  {
   "cell_type": "markdown",
   "metadata": {},
   "source": [
    "### Eigenvectors if A is symmetrical"
   ]
  },
  {
   "cell_type": "code",
   "execution_count": 22,
   "metadata": {},
   "outputs": [
    {
     "data": {
      "text/plain": [
       "array([[685.36053115,  15.74046305,  19.44167121],\n",
       "       [ 15.74046305, 682.13611326,   8.34016315],\n",
       "       [ 19.44167121,   8.34016315, 681.98656867]])"
      ]
     },
     "execution_count": 22,
     "metadata": {},
     "output_type": "execute_result"
    }
   ],
   "source": [
    "### Let's make a symmetrical matrix\n",
    "# A Matrix M is symmetrical iff M.T == M\n",
    "A  = np.random.randint(10, 100, size=(5000, 3))\n",
    "A_sym = np.cov(A.T) \n",
    "A_sym"
   ]
  },
  {
   "cell_type": "code",
   "execution_count": 23,
   "metadata": {},
   "outputs": [
    {
     "data": {
      "text/plain": [
       "(array([712.95964765, 662.52013564, 674.0034298 ]),\n",
       " array([[ 0.67116995,  0.73428336,  0.10177836],\n",
       "        [ 0.49262623, -0.33920074, -0.80141266],\n",
       "        [ 0.55394069, -0.58802279,  0.58938859]]))"
      ]
     },
     "execution_count": 23,
     "metadata": {},
     "output_type": "execute_result"
    }
   ],
   "source": [
    "evals, evecs = np.linalg.eig(A_sym)\n",
    "evals, evecs"
   ]
  },
  {
   "cell_type": "code",
   "execution_count": 24,
   "metadata": {},
   "outputs": [
    {
     "data": {
      "text/plain": [
       "1.0"
      ]
     },
     "execution_count": 24,
     "metadata": {},
     "output_type": "execute_result"
    }
   ],
   "source": [
    "### normal -> all eigenvectors are normal, always\n",
    "# A vector v is normal iff length of v is 1\n",
    "np.sqrt(np.sum(evecs[:, 0]**2))"
   ]
  },
  {
   "cell_type": "code",
   "execution_count": 25,
   "metadata": {},
   "outputs": [
    {
     "data": {
      "text/plain": [
       "-2.7755575615628914e-17"
      ]
     },
     "execution_count": 25,
     "metadata": {},
     "output_type": "execute_result"
    }
   ],
   "source": [
    "### because A_sym is symmetrical the vectors are also orthogonal\n",
    "# vectors a and b are orthogonal iff the angle between a and b is 90 degree (dot product = 0)\n",
    "\n",
    "np.dot(evecs[:, 0], evecs[:, 1])"
   ]
  },
  {
   "cell_type": "code",
   "execution_count": 28,
   "metadata": {},
   "outputs": [
    {
     "data": {
      "text/plain": [
       "array([[ 1., -0.,  0.],\n",
       "       [-0.,  1.,  0.],\n",
       "       [ 0.,  0.,  1.]])"
      ]
     },
     "execution_count": 28,
     "metadata": {},
     "output_type": "execute_result"
    }
   ],
   "source": [
    "## if A*B = I -> A, B are inverses\n",
    "## evecs.T = evecs.inv()\n",
    "np.round(evecs.dot(evecs.T), 2)"
   ]
  },
  {
   "cell_type": "code",
   "execution_count": 29,
   "metadata": {},
   "outputs": [
    {
     "data": {
      "text/plain": [
       "array([[685.36053115,  15.74046305,  19.44167121],\n",
       "       [ 15.74046305, 682.13611326,   8.34016315],\n",
       "       [ 19.44167121,   8.34016315, 681.98656867]])"
      ]
     },
     "execution_count": 29,
     "metadata": {},
     "output_type": "execute_result"
    }
   ],
   "source": [
    "A_sym"
   ]
  },
  {
   "cell_type": "code",
   "execution_count": 30,
   "metadata": {},
   "outputs": [
    {
     "data": {
      "text/plain": [
       "array([[685.36053115,  15.74046305,  19.44167121],\n",
       "       [ 15.74046305, 682.13611326,   8.34016315],\n",
       "       [ 19.44167121,   8.34016315, 681.98656867]])"
      ]
     },
     "execution_count": 30,
     "metadata": {},
     "output_type": "execute_result"
    }
   ],
   "source": [
    "# Q L Q^T\n",
    "evecs.dot(np.diag(evals)).dot(evecs.T)"
   ]
  },
  {
   "cell_type": "code",
   "execution_count": 31,
   "metadata": {},
   "outputs": [],
   "source": [
    "### eigenvecs and vals redescribe your space \n",
    "### if your space is symmetrical, then the eigenvecs are a basis\n",
    "### so...why is this important for dimensionality reduction?"
   ]
  },
  {
   "cell_type": "markdown",
   "metadata": {},
   "source": [
    "## PCA\n",
    "1. Calculate the covariance matrix of your data, C -> Symmetrical\n",
    "2. Calculate the eigenvecs and eigenvalues of covariance matrix\n",
    "    - eigenvectors are normal and orthogonal\n",
    "3. Project our data onto the vectors that most describe the correlation\n",
    "\n",
    "* feature engineering (kinda) on the variance\n",
    "\n",
    "## Pros\n",
    "- Reducing dimensionality gives fast processing time\n",
    "- Get more accurate results, at times\n",
    "- Don't have to drop features\n",
    "- Visualize your data\n",
    "\n",
    "\n",
    "\n",
    "## Cons\n",
    "- lose ALL interpretability\n",
    "- To reduce could be computationally expensive\n",
    "- lose relationships"
   ]
  },
  {
   "cell_type": "markdown",
   "metadata": {},
   "source": [
    "### Decomposition for non square matrix\n",
    "- SVD (Singular Value Decomposition)\n",
    "- Linear Discriminant Analysis\n",
    "- Reduces any matrix"
   ]
  },
  {
   "cell_type": "markdown",
   "metadata": {},
   "source": [
    "### Assessment\n",
    "- use PCA for predicting with distance mls or if feature interpretability are unimportant\n",
    "- learned that the PCA features are combinations of other features\n"
   ]
  }
 ],
 "metadata": {
  "kernelspec": {
   "display_name": "Python 3",
   "language": "python",
   "name": "python3"
  },
  "language_info": {
   "codemirror_mode": {
    "name": "ipython",
    "version": 3
   },
   "file_extension": ".py",
   "mimetype": "text/x-python",
   "name": "python",
   "nbconvert_exporter": "python",
   "pygments_lexer": "ipython3",
   "version": "3.7.3"
  }
 },
 "nbformat": 4,
 "nbformat_minor": 2
}
